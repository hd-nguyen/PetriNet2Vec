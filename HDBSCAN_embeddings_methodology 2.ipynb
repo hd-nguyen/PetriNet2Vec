{
 "cells": [
  {
   "cell_type": "code",
   "execution_count": 1,
   "metadata": {},
   "outputs": [],
   "source": [
    "#import sys\n",
    "#sys.path.append('/home/juan/Research/Codes/Process Mining')\n",
    "\n",
    "import os\n",
    "import numpy as np\n",
    "from sklearn.preprocessing import normalize\n",
    "import pm4py\n",
    "import hdbscan\n",
    "from sklearn import metrics\n",
    "from PetriNet2Vec import PetriNet2Vec\n",
    "import matplotlib.pyplot as plt\n",
    "import matplotlib.cm as cm\n",
    "import random\n",
    "pm4py.util.constants.SHOW_PROGRESS_BAR = False\n",
    "import warnings\n",
    "warnings.filterwarnings('ignore')\n",
    "import pandas as pd\n",
    "\n",
    "# Set the seed for reproducibility\n",
    "random_seed = 42\n",
    "os.environ['PYTHONHASHSEED'] = str(random_seed)\n",
    "np.random.seed(random_seed)\n",
    "random.seed(random_seed)"
   ]
  },
  {
   "cell_type": "markdown",
   "metadata": {},
   "source": [
    "Loading Petri Nets models (dataset)"
   ]
  },
  {
   "cell_type": "code",
   "execution_count": 2,
   "metadata": {},
   "outputs": [],
   "source": [
    "models = sorted(os.listdir('../Dataset/Models/'))\n",
    "petriNets = []\n",
    "for model in models:\n",
    "    net, im, fm = pm4py.read_pnml(os.path.join('../Dataset/Models/', model))\n",
    "    petriNets.append(net)"
   ]
  },
  {
   "cell_type": "markdown",
   "metadata": {},
   "source": [
    "Methodology 1"
   ]
  },
  {
   "cell_type": "code",
   "execution_count": 3,
   "metadata": {},
   "outputs": [
    {
     "name": "stdout",
     "output_type": "stream",
     "text": [
      "embedding_dim: 4 repetition: 0\n",
      "embedding_dim: 8 repetition: 0\n",
      "embedding_dim: 16 repetition: 0\n",
      "embedding_dim: 32 repetition: 0\n",
      "embedding_dim: 4 repetition: 1\n",
      "embedding_dim: 8 repetition: 1\n",
      "embedding_dim: 16 repetition: 1\n",
      "embedding_dim: 32 repetition: 1\n",
      "embedding_dim: 4 repetition: 2\n",
      "embedding_dim: 8 repetition: 2\n",
      "embedding_dim: 16 repetition: 2\n",
      "embedding_dim: 32 repetition: 2\n",
      "embedding_dim: 4 repetition: 3\n",
      "embedding_dim: 8 repetition: 3\n",
      "embedding_dim: 16 repetition: 3\n",
      "embedding_dim: 32 repetition: 3\n",
      "embedding_dim: 4 repetition: 4\n",
      "embedding_dim: 8 repetition: 4\n",
      "embedding_dim: 16 repetition: 4\n",
      "embedding_dim: 32 repetition: 4\n",
      "embedding_dim: 4 repetition: 5\n",
      "embedding_dim: 8 repetition: 5\n",
      "embedding_dim: 16 repetition: 5\n",
      "embedding_dim: 32 repetition: 5\n",
      "embedding_dim: 4 repetition: 6\n",
      "embedding_dim: 8 repetition: 6\n",
      "embedding_dim: 16 repetition: 6\n",
      "embedding_dim: 32 repetition: 6\n",
      "embedding_dim: 4 repetition: 7\n",
      "embedding_dim: 8 repetition: 7\n",
      "embedding_dim: 16 repetition: 7\n",
      "embedding_dim: 32 repetition: 7\n",
      "embedding_dim: 4 repetition: 8\n",
      "embedding_dim: 8 repetition: 8\n",
      "embedding_dim: 16 repetition: 8\n",
      "embedding_dim: 32 repetition: 8\n",
      "embedding_dim: 4 repetition: 9\n",
      "embedding_dim: 8 repetition: 9\n",
      "embedding_dim: 16 repetition: 9\n",
      "embedding_dim: 32 repetition: 9\n"
     ]
    }
   ],
   "source": [
    "epochs = 1000\n",
    "repetitions = 10\n",
    "df = pd.DataFrame(columns=['repetition', 'dimension', 'min_cluster_size', 'Silhouette'])\n",
    "\n",
    "for repetition in range(repetitions):\n",
    "    for dim in [4, 8, 16, 32]:\n",
    "        print('embedding_dim:', dim, 'repetition:', repetition)\n",
    "        model = PetriNet2Vec(embedding_dim=dim,\n",
    "                            seed=random_seed, \n",
    "                            black_transitions=False, # Use the token 'None' to represent black boxes\n",
    "                            workers=8)\n",
    "\n",
    "        model._fitted = False # force model to retrain from zero\n",
    "        model.fit(petriNets, epochs=epochs)\n",
    "\n",
    "        embeddings_vectors = normalize(model.get_net_embeddings().copy())\n",
    "\n",
    "        for i in range(2,6):    # Hierarchical DBSCAN with cosine similarity\n",
    "            cluster = hdbscan.HDBSCAN(min_cluster_size=i) # Hierarchical DBSCAN with cosine similarity\n",
    "            labels = cluster.fit_predict(embeddings_vectors)\n",
    "            # Number of clusters in labels, ignoring noise if present.\n",
    "            n_clusters = len(set(labels)) - (1 if -1 in labels else 0)\n",
    "            if n_clusters == 0:\n",
    "                Silhouette = 0\n",
    "            else:\n",
    "                Silhouette = metrics.silhouette_score(embeddings_vectors, labels)\n",
    "\n",
    "            df = df.append({'repetition':int(repetition), 'dimension':int(dim), 'min_cluster_size':int(i), 'Silhouette':Silhouette}, ignore_index = True)"
   ]
  },
  {
   "cell_type": "code",
   "execution_count": 4,
   "metadata": {},
   "outputs": [
    {
     "name": "stdout",
     "output_type": "stream",
     "text": [
      "dimensions: 4 min_cluster: 2 avg: 0.56 stc: 0.05\n",
      "dimensions: 4 min_cluster: 3 avg: 0.62 stc: 0.04\n",
      "dimensions: 4 min_cluster: 4 avg: 0.51 stc: 0.07\n",
      "dimensions: 4 min_cluster: 5 avg: 0.53 stc: 0.06\n",
      "dimensions: 8 min_cluster: 2 avg: 0.48 stc: 0.03\n",
      "dimensions: 8 min_cluster: 3 avg: 0.45 stc: 0.02\n",
      "dimensions: 8 min_cluster: 4 avg: 0.25 stc: 0.03\n",
      "dimensions: 8 min_cluster: 5 avg: 0.25 stc: 0.02\n",
      "dimensions: 16 min_cluster: 2 avg: 0.32 stc: 0.02\n",
      "dimensions: 16 min_cluster: 3 avg: 0.32 stc: 0.02\n",
      "dimensions: 16 min_cluster: 4 avg: 0.21 stc: 0.02\n",
      "dimensions: 16 min_cluster: 5 avg: 0.19 stc: 0.02\n",
      "dimensions: 32 min_cluster: 2 avg: 0.29 stc: 0.01\n",
      "dimensions: 32 min_cluster: 3 avg: 0.28 stc: 0.01\n",
      "dimensions: 32 min_cluster: 4 avg: 0.17 stc: 0.01\n",
      "dimensions: 32 min_cluster: 5 avg: 0.19 stc: 0.01\n"
     ]
    }
   ],
   "source": [
    "for dim in [4, 8, 16, 32]:\n",
    "    for i in range(2,6):\n",
    "        print('dimensions:', dim, 'min_cluster:', i,\n",
    "              'avg:', np.round(np.mean(df[(df['dimension'] == dim) & (df['min_cluster_size']==i)]['Silhouette']),2),\n",
    "              'stc:', np.round(np.std(df[(df['dimension'] == dim) & (df['min_cluster_size']==i)]['Silhouette']),2))"
   ]
  },
  {
   "cell_type": "code",
   "execution_count": null,
   "metadata": {},
   "outputs": [],
   "source": []
  }
 ],
 "metadata": {
  "kernelspec": {
   "display_name": "ProcessMining",
   "language": "python",
   "name": "python3"
  },
  "language_info": {
   "codemirror_mode": {
    "name": "ipython",
    "version": 3
   },
   "file_extension": ".py",
   "mimetype": "text/x-python",
   "name": "python",
   "nbconvert_exporter": "python",
   "pygments_lexer": "ipython3",
   "version": "3.11.7"
  }
 },
 "nbformat": 4,
 "nbformat_minor": 2
}
